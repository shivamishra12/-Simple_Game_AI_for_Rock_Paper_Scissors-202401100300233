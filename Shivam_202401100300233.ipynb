{
  "nbformat": 4,
  "nbformat_minor": 0,
  "metadata": {
    "colab": {
      "provenance": []
    },
    "kernelspec": {
      "name": "python3",
      "display_name": "Python 3"
    },
    "language_info": {
      "name": "python"
    }
  },
  "cells": [
    {
      "cell_type": "code",
      "execution_count": 1,
      "metadata": {
        "colab": {
          "base_uri": "https://localhost:8080/",
          "height": 599
        },
        "id": "_cRVQgyCi87E",
        "outputId": "d5717fa8-01a3-42a3-8f7e-2d950d9263d6"
      },
      "outputs": [
        {
          "output_type": "stream",
          "name": "stdout",
          "text": [
            "Enter rock, paper, or scissors (or 'quit' to exit): rock\n",
            "You chose rock, AI chose paper. AI wins!\n",
            "Enter rock, paper, or scissors (or 'quit' to exit): parer\n",
            "Invalid choice! Choose rock, paper, or scissors.\n",
            "Enter rock, paper, or scissors (or 'quit' to exit): paper\n",
            "You chose paper, AI chose paper. It's a tie!\n",
            "Enter rock, paper, or scissors (or 'quit' to exit): scissors\n",
            "You chose scissors, AI chose scissors. It's a tie!\n",
            "Enter rock, paper, or scissors (or 'quit' to exit): scissors\n",
            "You chose scissors, AI chose scissors. It's a tie!\n",
            "Enter rock, paper, or scissors (or 'quit' to exit): paper\n",
            "You chose paper, AI chose rock. You win!\n",
            "Enter rock, paper, or scissors (or 'quit' to exit): rock\n",
            "You chose rock, AI chose scissors. You win!\n"
          ]
        },
        {
          "output_type": "error",
          "ename": "KeyboardInterrupt",
          "evalue": "Interrupted by user",
          "traceback": [
            "\u001b[0;31m---------------------------------------------------------------------------\u001b[0m",
            "\u001b[0;31mKeyboardInterrupt\u001b[0m                         Traceback (most recent call last)",
            "\u001b[0;32m<ipython-input-1-347e922e234c>\u001b[0m in \u001b[0;36m<cell line: 0>\u001b[0;34m()\u001b[0m\n\u001b[1;32m     44\u001b[0m \u001b[0;34m\u001b[0m\u001b[0m\n\u001b[1;32m     45\u001b[0m     \u001b[0;32mwhile\u001b[0m \u001b[0;32mTrue\u001b[0m\u001b[0;34m:\u001b[0m\u001b[0;34m\u001b[0m\u001b[0;34m\u001b[0m\u001b[0m\n\u001b[0;32m---> 46\u001b[0;31m         \u001b[0muser_input\u001b[0m \u001b[0;34m=\u001b[0m \u001b[0minput\u001b[0m\u001b[0;34m(\u001b[0m\u001b[0;34m\"Enter rock, paper, or scissors (or 'quit' to exit): \"\u001b[0m\u001b[0;34m)\u001b[0m\u001b[0;34m.\u001b[0m\u001b[0mlower\u001b[0m\u001b[0;34m(\u001b[0m\u001b[0;34m)\u001b[0m\u001b[0;34m\u001b[0m\u001b[0;34m\u001b[0m\u001b[0m\n\u001b[0m\u001b[1;32m     47\u001b[0m         \u001b[0;32mif\u001b[0m \u001b[0muser_input\u001b[0m \u001b[0;34m==\u001b[0m \u001b[0;34m\"quit\"\u001b[0m\u001b[0;34m:\u001b[0m\u001b[0;34m\u001b[0m\u001b[0;34m\u001b[0m\u001b[0m\n\u001b[1;32m     48\u001b[0m             \u001b[0mprint\u001b[0m\u001b[0;34m(\u001b[0m\u001b[0;34m\"Thanks for playing!\"\u001b[0m\u001b[0;34m)\u001b[0m\u001b[0;34m\u001b[0m\u001b[0;34m\u001b[0m\u001b[0m\n",
            "\u001b[0;32m/usr/local/lib/python3.11/dist-packages/ipykernel/kernelbase.py\u001b[0m in \u001b[0;36mraw_input\u001b[0;34m(self, prompt)\u001b[0m\n\u001b[1;32m   1175\u001b[0m                 \u001b[0;34m\"raw_input was called, but this frontend does not support input requests.\"\u001b[0m\u001b[0;34m\u001b[0m\u001b[0;34m\u001b[0m\u001b[0m\n\u001b[1;32m   1176\u001b[0m             )\n\u001b[0;32m-> 1177\u001b[0;31m         return self._input_request(\n\u001b[0m\u001b[1;32m   1178\u001b[0m             \u001b[0mstr\u001b[0m\u001b[0;34m(\u001b[0m\u001b[0mprompt\u001b[0m\u001b[0;34m)\u001b[0m\u001b[0;34m,\u001b[0m\u001b[0;34m\u001b[0m\u001b[0;34m\u001b[0m\u001b[0m\n\u001b[1;32m   1179\u001b[0m             \u001b[0mself\u001b[0m\u001b[0;34m.\u001b[0m\u001b[0m_parent_ident\u001b[0m\u001b[0;34m[\u001b[0m\u001b[0;34m\"shell\"\u001b[0m\u001b[0;34m]\u001b[0m\u001b[0;34m,\u001b[0m\u001b[0;34m\u001b[0m\u001b[0;34m\u001b[0m\u001b[0m\n",
            "\u001b[0;32m/usr/local/lib/python3.11/dist-packages/ipykernel/kernelbase.py\u001b[0m in \u001b[0;36m_input_request\u001b[0;34m(self, prompt, ident, parent, password)\u001b[0m\n\u001b[1;32m   1217\u001b[0m             \u001b[0;32mexcept\u001b[0m \u001b[0mKeyboardInterrupt\u001b[0m\u001b[0;34m:\u001b[0m\u001b[0;34m\u001b[0m\u001b[0;34m\u001b[0m\u001b[0m\n\u001b[1;32m   1218\u001b[0m                 \u001b[0;31m# re-raise KeyboardInterrupt, to truncate traceback\u001b[0m\u001b[0;34m\u001b[0m\u001b[0;34m\u001b[0m\u001b[0m\n\u001b[0;32m-> 1219\u001b[0;31m                 \u001b[0;32mraise\u001b[0m \u001b[0mKeyboardInterrupt\u001b[0m\u001b[0;34m(\u001b[0m\u001b[0;34m\"Interrupted by user\"\u001b[0m\u001b[0;34m)\u001b[0m \u001b[0;32mfrom\u001b[0m \u001b[0;32mNone\u001b[0m\u001b[0;34m\u001b[0m\u001b[0;34m\u001b[0m\u001b[0m\n\u001b[0m\u001b[1;32m   1220\u001b[0m             \u001b[0;32mexcept\u001b[0m \u001b[0mException\u001b[0m\u001b[0;34m:\u001b[0m\u001b[0;34m\u001b[0m\u001b[0;34m\u001b[0m\u001b[0m\n\u001b[1;32m   1221\u001b[0m                 \u001b[0mself\u001b[0m\u001b[0;34m.\u001b[0m\u001b[0mlog\u001b[0m\u001b[0;34m.\u001b[0m\u001b[0mwarning\u001b[0m\u001b[0;34m(\u001b[0m\u001b[0;34m\"Invalid Message:\"\u001b[0m\u001b[0;34m,\u001b[0m \u001b[0mexc_info\u001b[0m\u001b[0;34m=\u001b[0m\u001b[0;32mTrue\u001b[0m\u001b[0;34m)\u001b[0m\u001b[0;34m\u001b[0m\u001b[0;34m\u001b[0m\u001b[0m\n",
            "\u001b[0;31mKeyboardInterrupt\u001b[0m: Interrupted by user"
          ]
        }
      ],
      "source": [
        "import random\n",
        "\n",
        "class RockPaperScissorsAI:\n",
        "    def __init__(self):\n",
        "        self.choices = [\"rock\", \"paper\", \"scissors\"]\n",
        "        self.opponent_history = []\n",
        "\n",
        "    def get_ai_choice(self):\n",
        "        if not self.opponent_history:\n",
        "            return random.choice(self.choices)\n",
        "\n",
        "        # Predict opponent’s next move based on history\n",
        "        predicted_move = max(set(self.opponent_history), key=self.opponent_history.count)\n",
        "\n",
        "        # Choose the move that beats the predicted move\n",
        "        counter_moves = {\n",
        "            \"rock\": \"paper\",\n",
        "            \"paper\": \"scissors\",\n",
        "            \"scissors\": \"rock\"\n",
        "        }\n",
        "        return counter_moves[predicted_move]\n",
        "\n",
        "    def play_round(self, user_choice):\n",
        "        if user_choice not in self.choices:\n",
        "            return \"Invalid choice! Choose rock, paper, or scissors.\"\n",
        "\n",
        "        ai_choice = self.get_ai_choice()\n",
        "        self.opponent_history.append(user_choice)\n",
        "\n",
        "        if user_choice == ai_choice:\n",
        "            result = \"It's a tie!\"\n",
        "        elif (user_choice == \"rock\" and ai_choice == \"scissors\") or \\\n",
        "             (user_choice == \"scissors\" and ai_choice == \"paper\") or \\\n",
        "             (user_choice == \"paper\" and ai_choice == \"rock\"):\n",
        "            result = \"You win!\"\n",
        "        else:\n",
        "            result = \"AI wins!\"\n",
        "\n",
        "        return f\"You chose {user_choice}, AI chose {ai_choice}. {result}\"\n",
        "\n",
        "# Run the game\n",
        "if __name__ == \"__main__\":\n",
        "    game_ai = RockPaperScissorsAI()\n",
        "\n",
        "    while True:\n",
        "        user_input = input(\"Enter rock, paper, or scissors (or 'quit' to exit): \").lower()\n",
        "        if user_input == \"quit\":\n",
        "            print(\"Thanks for playing!\")\n",
        "            break\n",
        "        print(game_ai.play_round(user_input))\n"
      ]
    }
  ]
}